{
 "cells": [
  {
   "cell_type": "code",
   "execution_count": 1,
   "id": "802bb432-29b6-469d-b732-16674a6f199a",
   "metadata": {},
   "outputs": [
    {
     "name": "stdout",
     "output_type": "stream",
     "text": [
      "Pandas version: 2.1.4\n",
      "Dash version: 3.2.0\n"
     ]
    }
   ],
   "source": [
    "import pandas as pd\n",
    "import dash\n",
    "\n",
    "print(\"Pandas version:\", pd.__version__)\n",
    "print(\"Dash version:\", dash.__version__)\n"
   ]
  },
  {
   "cell_type": "code",
   "execution_count": 2,
   "id": "3c060017-e112-4625-a11f-b0ce61e9fa4a",
   "metadata": {},
   "outputs": [
    {
     "ename": "ObsoleteAttributeException",
     "evalue": "app.run_server has been replaced by app.run",
     "output_type": "error",
     "traceback": [
      "\u001b[1;31m---------------------------------------------------------------------------\u001b[0m",
      "\u001b[1;31mObsoleteAttributeException\u001b[0m                Traceback (most recent call last)",
      "Cell \u001b[1;32mIn[2], line 14\u001b[0m\n\u001b[0;32m     12\u001b[0m \u001b[38;5;66;03m# Run the app\u001b[39;00m\n\u001b[0;32m     13\u001b[0m \u001b[38;5;28;01mif\u001b[39;00m \u001b[38;5;18m__name__\u001b[39m \u001b[38;5;241m==\u001b[39m \u001b[38;5;124m\"\u001b[39m\u001b[38;5;124m__main__\u001b[39m\u001b[38;5;124m\"\u001b[39m:\n\u001b[1;32m---> 14\u001b[0m     app\u001b[38;5;241m.\u001b[39mrun_server(debug\u001b[38;5;241m=\u001b[39m\u001b[38;5;28;01mTrue\u001b[39;00m)\n",
      "File \u001b[1;32m~\\anaconda3\\Lib\\site-packages\\dash\\_obsolete.py:22\u001b[0m, in \u001b[0;36mObsoleteChecker.__getattr__\u001b[1;34m(self, name)\u001b[0m\n\u001b[0;32m     20\u001b[0m \u001b[38;5;28;01mif\u001b[39;00m name \u001b[38;5;129;01min\u001b[39;00m \u001b[38;5;28mself\u001b[39m\u001b[38;5;241m.\u001b[39m_obsolete_attributes:\n\u001b[0;32m     21\u001b[0m     err \u001b[38;5;241m=\u001b[39m \u001b[38;5;28mself\u001b[39m\u001b[38;5;241m.\u001b[39m_obsolete_attributes[name]\n\u001b[1;32m---> 22\u001b[0m     \u001b[38;5;28;01mraise\u001b[39;00m err\u001b[38;5;241m.\u001b[39mexc(err\u001b[38;5;241m.\u001b[39mmessage)\n\u001b[0;32m     23\u001b[0m \u001b[38;5;28;01mreturn\u001b[39;00m \u001b[38;5;28mgetattr\u001b[39m(\u001b[38;5;28mself\u001b[39m\u001b[38;5;241m.\u001b[39m\u001b[38;5;18m__dict__\u001b[39m, name)\n",
      "\u001b[1;31mObsoleteAttributeException\u001b[0m: app.run_server has been replaced by app.run"
     ]
    }
   ],
   "source": [
    "from dash import Dash, html\n",
    "\n",
    "# Create the app\n",
    "app = Dash(__name__)\n",
    "\n",
    "# Layout for the app\n",
    "app.layout = html.Div([\n",
    "    html.H1(\"Quantium Starter App\"),\n",
    "    html.P(\"If you see this, Dash is working!\")\n",
    "])\n",
    "\n",
    "# Run the app\n",
    "if __name__ == \"__main__\":\n",
    "    app.run_server(debug=True)\n"
   ]
  },
  {
   "cell_type": "code",
   "execution_count": 3,
   "id": "79e03bb9-9c24-4921-9056-8b5657b1b8b9",
   "metadata": {},
   "outputs": [
    {
     "data": {
      "text/html": [
       "\n",
       "        <iframe\n",
       "            width=\"100%\"\n",
       "            height=\"650\"\n",
       "            src=\"http://127.0.0.1:8050/\"\n",
       "            frameborder=\"0\"\n",
       "            allowfullscreen\n",
       "            \n",
       "        ></iframe>\n",
       "        "
      ],
      "text/plain": [
       "<IPython.lib.display.IFrame at 0x2011e58eb50>"
      ]
     },
     "metadata": {},
     "output_type": "display_data"
    }
   ],
   "source": [
    "from dash import Dash, html\n",
    "\n",
    "# Create the app\n",
    "app = Dash(__name__)\n",
    "\n",
    "# Layout for the app\n",
    "app.layout = html.Div([\n",
    "    html.H1(\"Quantium Starter App\"),\n",
    "    html.P(\"If you see this, Dash is working!\")\n",
    "])\n",
    "\n",
    "# Run the app\n",
    "if __name__ == \"__main__\":\n",
    "    app.run(debug=True)\n"
   ]
  },
  {
   "cell_type": "code",
   "execution_count": 4,
   "id": "fa3b808d-9b89-4ea9-a06c-f163afb9e6f6",
   "metadata": {},
   "outputs": [
    {
     "name": "stdout",
     "output_type": "stream",
     "text": [
      "Requirement already satisfied: dash[testing] in c:\\users\\srilagna b\\anaconda3\\lib\\site-packages (3.2.0)\n",
      "Requirement already satisfied: Flask<3.2,>=1.0.4 in c:\\users\\srilagna b\\anaconda3\\lib\\site-packages (from dash[testing]) (2.2.5)\n",
      "Requirement already satisfied: Werkzeug<3.2 in c:\\users\\srilagna b\\anaconda3\\lib\\site-packages (from dash[testing]) (2.2.3)\n",
      "Requirement already satisfied: plotly>=5.0.0 in c:\\users\\srilagna b\\anaconda3\\lib\\site-packages (from dash[testing]) (5.9.0)\n",
      "Requirement already satisfied: importlib-metadata in c:\\users\\srilagna b\\anaconda3\\lib\\site-packages (from dash[testing]) (7.0.1)\n",
      "Requirement already satisfied: typing-extensions>=4.1.1 in c:\\users\\srilagna b\\anaconda3\\lib\\site-packages (from dash[testing]) (4.9.0)\n",
      "Requirement already satisfied: requests in c:\\users\\srilagna b\\anaconda3\\lib\\site-packages (from dash[testing]) (2.31.0)\n",
      "Requirement already satisfied: retrying in c:\\users\\srilagna b\\anaconda3\\lib\\site-packages (from dash[testing]) (1.4.2)\n",
      "Requirement already satisfied: nest-asyncio in c:\\users\\srilagna b\\anaconda3\\lib\\site-packages (from dash[testing]) (1.6.0)\n",
      "Requirement already satisfied: setuptools in c:\\users\\srilagna b\\anaconda3\\lib\\site-packages (from dash[testing]) (68.2.2)\n",
      "Requirement already satisfied: beautifulsoup4>=4.8.2 in c:\\users\\srilagna b\\anaconda3\\lib\\site-packages (from dash[testing]) (4.12.2)\n",
      "Requirement already satisfied: cryptography in c:\\users\\srilagna b\\anaconda3\\lib\\site-packages (from dash[testing]) (42.0.2)\n",
      "Requirement already satisfied: lxml>=4.6.2 in c:\\users\\srilagna b\\anaconda3\\lib\\site-packages (from dash[testing]) (4.9.3)\n",
      "Requirement already satisfied: percy>=2.0.2 in c:\\users\\srilagna b\\anaconda3\\lib\\site-packages (from dash[testing]) (2.0.2)\n",
      "Requirement already satisfied: pytest>=6.0.2 in c:\\users\\srilagna b\\anaconda3\\lib\\site-packages (from dash[testing]) (7.4.0)\n",
      "Requirement already satisfied: selenium<=4.2.0,>=3.141.0 in c:\\users\\srilagna b\\anaconda3\\lib\\site-packages (from dash[testing]) (4.2.0)\n",
      "Requirement already satisfied: waitress>=1.4.4 in c:\\users\\srilagna b\\anaconda3\\lib\\site-packages (from dash[testing]) (3.0.2)\n",
      "Requirement already satisfied: multiprocess>=0.70.12 in c:\\users\\srilagna b\\anaconda3\\lib\\site-packages (from dash[testing]) (0.70.18)\n",
      "Requirement already satisfied: psutil>=5.8.0 in c:\\users\\srilagna b\\anaconda3\\lib\\site-packages (from dash[testing]) (5.9.0)\n",
      "Requirement already satisfied: dash-testing-stub>=0.0.2 in c:\\users\\srilagna b\\anaconda3\\lib\\site-packages (from dash[testing]) (0.0.2)\n",
      "Requirement already satisfied: soupsieve>1.2 in c:\\users\\srilagna b\\anaconda3\\lib\\site-packages (from beautifulsoup4>=4.8.2->dash[testing]) (2.5)\n",
      "Requirement already satisfied: Jinja2>=3.0 in c:\\users\\srilagna b\\anaconda3\\lib\\site-packages (from Flask<3.2,>=1.0.4->dash[testing]) (3.1.3)\n",
      "Requirement already satisfied: itsdangerous>=2.0 in c:\\users\\srilagna b\\anaconda3\\lib\\site-packages (from Flask<3.2,>=1.0.4->dash[testing]) (2.0.1)\n",
      "Requirement already satisfied: click>=8.0 in c:\\users\\srilagna b\\anaconda3\\lib\\site-packages (from Flask<3.2,>=1.0.4->dash[testing]) (8.1.7)\n",
      "Requirement already satisfied: dill>=0.4.0 in c:\\users\\srilagna b\\anaconda3\\lib\\site-packages (from multiprocess>=0.70.12->dash[testing]) (0.4.0)\n",
      "Requirement already satisfied: tenacity>=6.2.0 in c:\\users\\srilagna b\\anaconda3\\lib\\site-packages (from plotly>=5.0.0->dash[testing]) (8.2.2)\n",
      "Requirement already satisfied: iniconfig in c:\\users\\srilagna b\\anaconda3\\lib\\site-packages (from pytest>=6.0.2->dash[testing]) (1.1.1)\n",
      "Requirement already satisfied: packaging in c:\\users\\srilagna b\\anaconda3\\lib\\site-packages (from pytest>=6.0.2->dash[testing]) (23.1)\n",
      "Requirement already satisfied: pluggy<2.0,>=0.12 in c:\\users\\srilagna b\\anaconda3\\lib\\site-packages (from pytest>=6.0.2->dash[testing]) (1.0.0)\n",
      "Requirement already satisfied: colorama in c:\\users\\srilagna b\\anaconda3\\lib\\site-packages (from pytest>=6.0.2->dash[testing]) (0.4.6)\n",
      "Requirement already satisfied: charset-normalizer<4,>=2 in c:\\users\\srilagna b\\anaconda3\\lib\\site-packages (from requests->dash[testing]) (2.0.4)\n",
      "Requirement already satisfied: idna<4,>=2.5 in c:\\users\\srilagna b\\anaconda3\\lib\\site-packages (from requests->dash[testing]) (3.4)\n",
      "Requirement already satisfied: urllib3<3,>=1.21.1 in c:\\users\\srilagna b\\anaconda3\\lib\\site-packages (from requests->dash[testing]) (1.26.20)\n",
      "Requirement already satisfied: certifi>=2017.4.17 in c:\\users\\srilagna b\\anaconda3\\lib\\site-packages (from requests->dash[testing]) (2024.2.2)\n",
      "Requirement already satisfied: trio~=0.17 in c:\\users\\srilagna b\\anaconda3\\lib\\site-packages (from selenium<=4.2.0,>=3.141.0->dash[testing]) (0.30.0)\n",
      "Requirement already satisfied: trio-websocket~=0.9 in c:\\users\\srilagna b\\anaconda3\\lib\\site-packages (from selenium<=4.2.0,>=3.141.0->dash[testing]) (0.12.2)\n",
      "Requirement already satisfied: MarkupSafe>=2.1.1 in c:\\users\\srilagna b\\anaconda3\\lib\\site-packages (from Werkzeug<3.2->dash[testing]) (2.1.3)\n",
      "Requirement already satisfied: cffi>=1.12 in c:\\users\\srilagna b\\anaconda3\\lib\\site-packages (from cryptography->dash[testing]) (1.16.0)\n",
      "Requirement already satisfied: zipp>=0.5 in c:\\users\\srilagna b\\anaconda3\\lib\\site-packages (from importlib-metadata->dash[testing]) (3.17.0)\n",
      "Requirement already satisfied: pycparser in c:\\users\\srilagna b\\anaconda3\\lib\\site-packages (from cffi>=1.12->cryptography->dash[testing]) (2.21)\n",
      "Requirement already satisfied: attrs>=23.2.0 in c:\\users\\srilagna b\\anaconda3\\lib\\site-packages (from trio~=0.17->selenium<=4.2.0,>=3.141.0->dash[testing]) (25.3.0)\n",
      "Requirement already satisfied: sortedcontainers in c:\\users\\srilagna b\\anaconda3\\lib\\site-packages (from trio~=0.17->selenium<=4.2.0,>=3.141.0->dash[testing]) (2.4.0)\n",
      "Requirement already satisfied: outcome in c:\\users\\srilagna b\\anaconda3\\lib\\site-packages (from trio~=0.17->selenium<=4.2.0,>=3.141.0->dash[testing]) (1.3.0.post0)\n",
      "Requirement already satisfied: sniffio>=1.3.0 in c:\\users\\srilagna b\\anaconda3\\lib\\site-packages (from trio~=0.17->selenium<=4.2.0,>=3.141.0->dash[testing]) (1.3.0)\n",
      "Requirement already satisfied: wsproto>=0.14 in c:\\users\\srilagna b\\anaconda3\\lib\\site-packages (from trio-websocket~=0.9->selenium<=4.2.0,>=3.141.0->dash[testing]) (1.2.0)\n",
      "Requirement already satisfied: pyOpenSSL>=0.14 in c:\\users\\srilagna b\\anaconda3\\lib\\site-packages (from urllib3[secure,socks]~=1.26->selenium<=4.2.0,>=3.141.0->dash[testing]) (24.0.0)\n",
      "Requirement already satisfied: urllib3-secure-extra in c:\\users\\srilagna b\\anaconda3\\lib\\site-packages (from urllib3[secure,socks]~=1.26->selenium<=4.2.0,>=3.141.0->dash[testing]) (0.1.0)\n",
      "Requirement already satisfied: PySocks!=1.5.7,<2.0,>=1.5.6 in c:\\users\\srilagna b\\anaconda3\\lib\\site-packages (from urllib3[secure,socks]~=1.26->selenium<=4.2.0,>=3.141.0->dash[testing]) (1.7.1)\n",
      "Requirement already satisfied: h11<1,>=0.9.0 in c:\\users\\srilagna b\\anaconda3\\lib\\site-packages (from wsproto>=0.14->trio-websocket~=0.9->selenium<=4.2.0,>=3.141.0->dash[testing]) (0.16.0)\n",
      "Note: you may need to restart the kernel to use updated packages.\n"
     ]
    }
   ],
   "source": [
    "pip install \"dash[testing]\"\n"
   ]
  },
  {
   "cell_type": "code",
   "execution_count": null,
   "id": "bcb681a7-3b08-48b1-9e58-aaa644e81cd2",
   "metadata": {},
   "outputs": [],
   "source": []
  }
 ],
 "metadata": {
  "kernelspec": {
   "display_name": "Python 3 (ipykernel)",
   "language": "python",
   "name": "python3"
  },
  "language_info": {
   "codemirror_mode": {
    "name": "ipython",
    "version": 3
   },
   "file_extension": ".py",
   "mimetype": "text/x-python",
   "name": "python",
   "nbconvert_exporter": "python",
   "pygments_lexer": "ipython3",
   "version": "3.11.7"
  }
 },
 "nbformat": 4,
 "nbformat_minor": 5
}
