{
 "cells": [
  {
   "cell_type": "code",
   "execution_count": 1,
   "id": "7e888ea5-d2d4-4084-b13d-80d34fada0a7",
   "metadata": {},
   "outputs": [
    {
     "name": "stdout",
     "output_type": "stream",
     "text": [
      "pink_morsel_sales.csv has been created in your current folder.\n"
     ]
    }
   ],
   "source": [
    "# Create the file and write the header\n",
    "with open('pink_morsel_sales.csv', 'w') as f:\n",
    "    f.write('sales,date,region\\n')\n",
    "\n",
    "print(\"pink_morsel_sales.csv has been created in your current folder.\")"
   ]
  },
  {
   "cell_type": "code",
   "execution_count": null,
   "id": "1c5dcb83-9eb2-4e39-a24e-3cc863579911",
   "metadata": {},
   "outputs": [],
   "source": []
  }
 ],
 "metadata": {
  "kernelspec": {
   "display_name": "Python 3 (ipykernel)",
   "language": "python",
   "name": "python3"
  },
  "language_info": {
   "codemirror_mode": {
    "name": "ipython",
    "version": 3
   },
   "file_extension": ".py",
   "mimetype": "text/x-python",
   "name": "python",
   "nbconvert_exporter": "python",
   "pygments_lexer": "ipython3",
   "version": "3.11.7"
  }
 },
 "nbformat": 4,
 "nbformat_minor": 5
}
