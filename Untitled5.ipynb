{
 "cells": [
  {
   "cell_type": "code",
   "execution_count": 1,
   "id": "99396d29-9a28-46d5-9c18-924e8e3768cd",
   "metadata": {},
   "outputs": [],
   "source": [
    "import pandas as pd\n",
    "\n",
    "# Load the three CSV files from the 'data' folder\n",
    "df1 = pd.read_csv('data/daily_sales_data_0.csv')\n",
    "df2 = pd.read_csv('data/daily_sales_data_1.csv')\n",
    "df3 = pd.read_csv('data/daily_sales_data_2.csv')"
   ]
  },
  {
   "cell_type": "code",
   "execution_count": 2,
   "id": "a1de34fd-908f-4a9e-956e-f9cd199d670f",
   "metadata": {},
   "outputs": [
    {
     "name": "stdout",
     "output_type": "stream",
     "text": [
      "     sales        date region\n",
      "0   1638.0  2018-02-06  north\n",
      "1   1647.0  2018-02-06  south\n",
      "2   1731.0  2018-02-06   east\n",
      "3   1557.0  2018-02-06   west\n",
      "28  1587.0  2018-02-07  north\n"
     ]
    }
   ],
   "source": [
    "# Function to process each dataframe\n",
    "def process_morsel_data(df):\n",
    "    # Filter for 'pink morsel'\n",
    "    df = df[df['product'] == 'pink morsel'].copy()\n",
    "\n",
    "    # Clean the 'price' column by removing the '$' and converting to a number\n",
    "    df['price'] = df['price'].str.replace('$', '', regex=False).astype(float)\n",
    "\n",
    "    # Calculate the new 'sales' column\n",
    "    df['sales'] = df['quantity'] * df['price']\n",
    "\n",
    "    # Select and reorder the final columns as requested\n",
    "    df = df[['sales', 'date', 'region']]\n",
    "\n",
    "    return df\n",
    "\n",
    "# Apply the function to all three dataframes\n",
    "df1_processed = process_morsel_data(df1)\n",
    "df2_processed = process_morsel_data(df2)\n",
    "df3_processed = process_morsel_data(df3)\n",
    "\n",
    "# Display the first few rows of one processed dataframe to check the output\n",
    "print(df1_processed.head())"
   ]
  },
  {
   "cell_type": "code",
   "execution_count": 3,
   "id": "2639b274-90b1-4941-ba90-fcafd2afdaa2",
   "metadata": {},
   "outputs": [
    {
     "name": "stdout",
     "output_type": "stream",
     "text": [
      "Combined data saved to pink_morsel_sales.csv\n"
     ]
    }
   ],
   "source": [
    "# Concatenate the three processed dataframes into one\n",
    "combined_df = pd.concat([df1_processed, df2_processed, df3_processed], ignore_index=True)\n",
    "\n",
    "# Save the final combined dataframe to a new CSV file\n",
    "combined_df.to_csv('pink_morsel_sales.csv', index=False)\n",
    "\n",
    "print(\"Combined data saved to pink_morsel_sales.csv\")"
   ]
  },
  {
   "cell_type": "code",
   "execution_count": null,
   "id": "72f4db5a-0d69-4921-b16c-08c2157e0be6",
   "metadata": {},
   "outputs": [],
   "source": []
  }
 ],
 "metadata": {
  "kernelspec": {
   "display_name": "Python 3 (ipykernel)",
   "language": "python",
   "name": "python3"
  },
  "language_info": {
   "codemirror_mode": {
    "name": "ipython",
    "version": 3
   },
   "file_extension": ".py",
   "mimetype": "text/x-python",
   "name": "python",
   "nbconvert_exporter": "python",
   "pygments_lexer": "ipython3",
   "version": "3.11.7"
  }
 },
 "nbformat": 4,
 "nbformat_minor": 5
}
